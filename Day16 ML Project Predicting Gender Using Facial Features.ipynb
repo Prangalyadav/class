{
 "cells": [
  {
   "cell_type": "markdown",
   "id": "2a94ab88-52e5-4376-aac5-3522d57b23a5",
   "metadata": {},
   "source": [
    "### Importing Relevant Libraries"
   ]
  },
  {
   "cell_type": "code",
   "execution_count": null,
   "id": "99e9f011-ce61-4a2e-abaf-1a6d88332eb4",
   "metadata": {},
   "outputs": [],
   "source": [
    "import numpy as np\n",
    "import pandas as pd\n",
    "import matplotlib.pyplot as plt\n",
    "import seaborn as sns\n",
    "from sklearn.model_selection import train_test_split\n",
    "from sklearn.linear_model import LogisticRegression\n",
    "from sklearn.tree import DecisionTreeClassifier\n",
    "from sklearn.ensemble import RandomForestClassifier\n",
    "from sklearn.naive_bayes import GaussianNB\n",
    "from sklearn.neighbors import KNeighborsClassifier\n",
    "from sklearn.svm import SVC\n",
    "from sklearn.preprocessing import StandardScaler\n",
    "from sklearn.metrics import accuracy_score, classification_report"
   ]
  },
  {
   "cell_type": "code",
   "execution_count": 25,
   "id": "8d002d7d-8e45-4baf-94d6-a2f9e29db19c",
   "metadata": {},
   "outputs": [
    {
     "name": "stdout",
     "output_type": "stream",
     "text": [
      "Requirement already satisfied: xgboost in c:\\users\\admin\\anaconda3\\lib\\site-packages (1.6.2)\n",
      "Requirement already satisfied: lightgbm in c:\\users\\admin\\anaconda3\\lib\\site-packages (4.3.0)\n",
      "Requirement already satisfied: numpy in c:\\users\\admin\\anaconda3\\lib\\site-packages (from lightgbm) (1.22.4)\n",
      "Requirement already satisfied: scipy in c:\\users\\admin\\anaconda3\\lib\\site-packages (from lightgbm) (1.10.1)\n",
      "Note: you may need to restart the kernel to use updated packages.\n"
     ]
    }
   ],
   "source": []
  },
  {
   "cell_type": "markdown",
   "id": "0c636b92-d09f-4846-9412-da3c58b55a23",
   "metadata": {},
   "source": [
    "### Load data & display overview"
   ]
  },
  {
   "cell_type": "code",
   "execution_count": null,
   "id": "04c6f2fd-f2f1-4d5b-aa53-def5f91a35a0",
   "metadata": {},
   "outputs": [],
   "source": [
    "df=pd.read_csv('gender_classification_v7.csv')"
   ]
  },
  {
   "cell_type": "code",
   "execution_count": null,
   "id": "79c46bf3-49dd-4b72-bf46-68fb29a1954e",
   "metadata": {},
   "outputs": [],
   "source": [
    "df.head(3)"
   ]
  },
  {
   "cell_type": "code",
   "execution_count": null,
   "id": "3ecce9f2-9378-4893-b0f2-2fc5657fdf3c",
   "metadata": {},
   "outputs": [],
   "source": [
    "df.tail(3)"
   ]
  },
  {
   "cell_type": "code",
   "execution_count": null,
   "id": "0f3a5d13-17d8-47bd-993c-120a10376ed1",
   "metadata": {},
   "outputs": [],
   "source": [
    "df.info()"
   ]
  },
  {
   "cell_type": "code",
   "execution_count": null,
   "id": "855c5e21-bedc-4e8b-b6cd-c4cf1fd668ef",
   "metadata": {},
   "outputs": [],
   "source": [
    "df.isnull().sum()"
   ]
  },
  {
   "cell_type": "code",
   "execution_count": null,
   "id": "b0375663-4a4e-46fd-acbc-d1094664d805",
   "metadata": {},
   "outputs": [],
   "source": [
    "df.describe()"
   ]
  },
  {
   "cell_type": "code",
   "execution_count": null,
   "id": "894ad1de-faac-46d9-9a6e-1ca0b685f7be",
   "metadata": {},
   "outputs": [],
   "source": [
    "df['gender']=df['gender'].map({'Male':1,'Female':0})"
   ]
  },
  {
   "cell_type": "code",
   "execution_count": null,
   "id": "69070468-f986-4b2c-ac4c-b86d4dd1ca75",
   "metadata": {},
   "outputs": [],
   "source": [
    "import Om_stats\n",
    "for col_name in df.columns:\n",
    "    print(col_name)\n",
    "    Om_stats.cal_stats(df[col_name])\n",
    "    print('-'*40)"
   ]
  },
  {
   "cell_type": "code",
   "execution_count": null,
   "id": "c488a4ec-f83f-4585-bd5e-c66bdd5e1c76",
   "metadata": {},
   "outputs": [],
   "source": [
    "for col_name in df.columns:\n",
    "    print(col_name)\n",
    "    sns.displot(df[col_name])\n",
    "    plt.show()"
   ]
  },
  {
   "cell_type": "code",
   "execution_count": null,
   "id": "c4a5cd58-aed3-4f78-9196-212bc4ec9d38",
   "metadata": {},
   "outputs": [],
   "source": [
    "for col_name in df.columns:\n",
    "    print(col_name)\n",
    "    sns.boxplot(df[col_name])\n",
    "    plt.show()"
   ]
  },
  {
   "cell_type": "code",
   "execution_count": 19,
   "id": "414d70ac-8bbf-415b-8f48-10fbba25118e",
   "metadata": {},
   "outputs": [],
   "source": [
    "X=df.drop('gender',axis=1)\n",
    "y=df['gender']"
   ]
  },
  {
   "cell_type": "code",
   "execution_count": 20,
   "id": "e49d1557-d655-4a73-b604-4209d7914617",
   "metadata": {},
   "outputs": [],
   "source": [
    "ss=StandardScaler()\n",
    "X=ss.fit_transform(X)"
   ]
  },
  {
   "cell_type": "code",
   "execution_count": 21,
   "id": "c886d5c2-2bf6-4b75-8a81-34423c8dfeb7",
   "metadata": {},
   "outputs": [],
   "source": [
    "X_train, X_test, y_train, y_test = train_test_split(X, y, test_size=0.2, random_state=99)"
   ]
  },
  {
   "cell_type": "code",
   "execution_count": 26,
   "id": "83e1294b-6e2e-4b05-85dd-2019bc1672b0",
   "metadata": {},
   "outputs": [],
   "source": [
    "df['gender']=df['gender'].map({'Male':1,'Female':0})\n",
    "pip install xgboost lightgbm\n",
    "from xgboost import XGBClassifier\n",
    "from lightgbm import LGBMClassifier\n",
    "models={'Logistic Regression':LogisticRegression(),\n",
    "        'Decision Tree':DecisionTreeClassifier(),\n",
    "        'K Nearest Neighbors': KNeighborsClassifier(),\n",
    "        'Random Forest':RandomForestClassifier(),\n",
    "        'Naive Bayes': GaussianNB(),\n",
    "        'SVC': SVC(),\n",
    "       'XG Boost': XGBClassifier(),\n",
    "       'LGBM':LGBMClassifier()}\n",
    "        "
   ]
  },
  {
   "cell_type": "code",
   "execution_count": 27,
   "id": "eabebd13-a078-4c8a-9325-8775ce19ae31",
   "metadata": {},
   "outputs": [
    {
     "name": "stdout",
     "output_type": "stream",
     "text": [
      "Logistic Regression 0.957042957042957\n",
      "Decision Tree 0.9560439560439561\n",
      "K Nearest Neighbors 0.9590409590409591\n",
      "Random Forest 0.961038961038961\n",
      "Naive Bayes 0.9660339660339661\n",
      "SVC 0.9630369630369631\n",
      "XG Boost 0.962037962037962\n",
      "[LightGBM] [Info] Number of positive: 2009, number of negative: 1991\n",
      "[LightGBM] [Info] Auto-choosing row-wise multi-threading, the overhead of testing was 0.000068 seconds.\n",
      "You can set `force_row_wise=true` to remove the overhead.\n",
      "And if memory is not enough, you can set `force_col_wise=true`.\n",
      "[LightGBM] [Info] Total Bins 80\n",
      "[LightGBM] [Info] Number of data points in the train set: 4000, number of used features: 7\n",
      "[LightGBM] [Info] [binary:BoostFromScore]: pavg=0.502250 -> initscore=0.009000\n",
      "[LightGBM] [Info] Start training from score 0.009000\n",
      "LGBM 0.9590409590409591\n"
     ]
    }
   ],
   "source": [
    "for name, alg in models.items():\n",
    "    model=alg\n",
    "    model.fit(X_train,y_train)\n",
    "    y_pred=model.predict(X_test)\n",
    "    print(name,accuracy_score(y_test,y_pred))"
   ]
  },
  {
   "cell_type": "code",
   "execution_count": null,
   "id": "45ab73c7-8046-4f64-9d78-c57168fee0f2",
   "metadata": {},
   "outputs": [],
   "source": []
  }
 ],
 "metadata": {
  "kernelspec": {
   "display_name": "Python 3 (ipykernel)",
   "language": "python",
   "name": "python3"
  },
  "language_info": {
   "codemirror_mode": {
    "name": "ipython",
    "version": 3
   },
   "file_extension": ".py",
   "mimetype": "text/x-python",
   "name": "python",
   "nbconvert_exporter": "python",
   "pygments_lexer": "ipython3",
   "version": "3.13.0"
  }
 },
 "nbformat": 4,
 "nbformat_minor": 5
}
